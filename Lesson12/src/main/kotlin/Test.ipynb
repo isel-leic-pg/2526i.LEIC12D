{
 "cells": [
  {
   "cell_type": "code",
   "metadata": {
    "collapsed": true,
    "ExecuteTime": {
     "end_time": "2025-10-21T12:07:58.667806Z",
     "start_time": "2025-10-21T12:07:58.579266Z"
    }
   },
   "source": "2.6.toInt()",
   "outputs": [
    {
     "data": {
      "text/plain": [
       "2"
      ]
     },
     "execution_count": 1,
     "metadata": {},
     "output_type": "execute_result"
    }
   ],
   "execution_count": 1
  },
  {
   "metadata": {
    "ExecuteTime": {
     "end_time": "2025-10-21T12:10:26.890563Z",
     "start_time": "2025-10-21T12:10:26.787810Z"
    }
   },
   "cell_type": "code",
   "source": [
    "var c1 = 'a'\n",
    "var c2 = 'b'\n",
    "\n",
    "c1-2"
   ],
   "outputs": [
    {
     "data": {
      "text/plain": [
       "_"
      ]
     },
     "execution_count": 6,
     "metadata": {},
     "output_type": "execute_result"
    }
   ],
   "execution_count": 6
  }
 ],
 "metadata": {
  "kernelspec": {
   "display_name": "Kotlin",
   "language": "kotlin",
   "name": "kotlin"
  },
  "language_info": {
   "name": "kotlin",
   "version": "2.2.20-Beta2",
   "mimetype": "text/x-kotlin",
   "file_extension": ".kt",
   "pygments_lexer": "kotlin",
   "codemirror_mode": "text/x-kotlin",
   "nbconvert_exporter": ""
  }
 },
 "nbformat": 4,
 "nbformat_minor": 0
}
