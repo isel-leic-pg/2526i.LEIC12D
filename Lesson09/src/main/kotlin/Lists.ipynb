{
 "cells": [
  {
   "metadata": {},
   "cell_type": "markdown",
   "source": "# Listas"
  },
  {
   "metadata": {
    "ExecuteTime": {
     "end_time": "2025-10-08T11:26:09.910653Z",
     "start_time": "2025-10-08T11:26:09.762112Z"
    }
   },
   "cell_type": "code",
   "source": [
    "val names: List<String> = listOf(\"ISEL\", \"PG\", \"12D\", \"Kotlin\", \"Intellij\", \"Compilador\")\n",
    "names[1]\n"
   ],
   "outputs": [
    {
     "data": {
      "text/plain": [
       "PG"
      ]
     },
     "execution_count": 6,
     "metadata": {},
     "output_type": "execute_result"
    }
   ],
   "execution_count": 6
  },
  {
   "metadata": {},
   "cell_type": "markdown",
   "source": "## Funções sobre listas"
  },
  {
   "metadata": {},
   "cell_type": "markdown",
   "source": "### forEach"
  },
  {
   "metadata": {
    "ExecuteTime": {
     "end_time": "2025-10-08T11:22:54.270085Z",
     "start_time": "2025-10-08T11:22:53.940237Z"
    }
   },
   "cell_type": "code",
   "source": [
    "names.forEach { slb -> println(slb) }\n",
    "\n",
    "for(slb in names) {\n",
    "    println(slb)\n",
    "}\n"
   ],
   "outputs": [
    {
     "name": "stdout",
     "output_type": "stream",
     "text": [
      "ISEL\n",
      "PG\n",
      "12D\n"
     ]
    }
   ],
   "execution_count": 5
  },
  {
   "metadata": {},
   "cell_type": "markdown",
   "source": "### filter"
  },
  {
   "metadata": {
    "ExecuteTime": {
     "end_time": "2025-10-08T11:32:26.030800Z",
     "start_time": "2025-10-08T11:32:25.891101Z"
    }
   },
   "cell_type": "code",
   "source": "names.filter { it.length % 2 == 0 }",
   "outputs": [
    {
     "data": {
      "text/plain": [
       "[ISEL, PG, Kotlin, Intellij, Compilador]"
      ]
     },
     "execution_count": 13,
     "metadata": {},
     "output_type": "execute_result"
    }
   ],
   "execution_count": 13
  },
  {
   "metadata": {},
   "cell_type": "markdown",
   "source": "### map"
  },
  {
   "metadata": {
    "ExecuteTime": {
     "end_time": "2025-10-08T11:32:29.588037Z",
     "start_time": "2025-10-08T11:32:29.510255Z"
    }
   },
   "cell_type": "code",
   "source": [
    "names.map { it.length }\n",
    "\n",
    "\n"
   ],
   "outputs": [
    {
     "data": {
      "text/plain": [
       "[4, 2, 3, 6, 8, 10]"
      ]
     },
     "execution_count": 14,
     "metadata": {},
     "output_type": "execute_result"
    }
   ],
   "execution_count": 14
  },
  {
   "metadata": {
    "ExecuteTime": {
     "end_time": "2025-10-08T11:59:37.591366Z",
     "start_time": "2025-10-08T11:59:36.524499Z"
    }
   },
   "cell_type": "code",
   "source": [
    "names.filter { it.length % 2 == 0 }\n",
    "    .map { it.length }"
   ],
   "outputs": [
    {
     "data": {
      "text/plain": [
       "[4, 2, 6, 8, 10]"
      ]
     },
     "execution_count": 18,
     "metadata": {},
     "output_type": "execute_result"
    }
   ],
   "execution_count": 18
  },
  {
   "metadata": {
    "ExecuteTime": {
     "end_time": "2025-10-08T11:59:41.965388Z",
     "start_time": "2025-10-08T11:59:41.688011Z"
    }
   },
   "cell_type": "code",
   "source": [
    "\n",
    "names.map { it.length }\n",
    "    .filter { it % 2 == 0 }\n"
   ],
   "outputs": [
    {
     "data": {
      "text/plain": [
       "[4, 2, 6, 8, 10]"
      ]
     },
     "execution_count": 20,
     "metadata": {},
     "output_type": "execute_result"
    }
   ],
   "execution_count": 20
  }
 ],
 "metadata": {
  "kernelspec": {
   "display_name": "Kotlin",
   "language": "kotlin",
   "name": "kotlin"
  },
  "language_info": {
   "name": "kotlin",
   "version": "2.2.20-Beta2",
   "mimetype": "text/x-kotlin",
   "file_extension": ".kt",
   "pygments_lexer": "kotlin",
   "codemirror_mode": "text/x-kotlin",
   "nbconvert_exporter": ""
  }
 },
 "nbformat": 4,
 "nbformat_minor": 0
}
